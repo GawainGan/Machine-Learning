{
 "cells": [
  {
   "cell_type": "code",
   "execution_count": 2,
   "metadata": {},
   "outputs": [],
   "source": [
    "from sklearn.preprocessing import MinMaxScaler\n",
    "import numpy as np\n",
    "np.random.seed(0)\n",
    "import matplotlib.pyplot as plt"
   ]
  },
  {
   "cell_type": "code",
   "execution_count": 3,
   "metadata": {},
   "outputs": [],
   "source": [
    "X=np.array([[0.697,0.460],[0.774,0.376],[0.634,0.264],[0.608,0.318],[0.556,0.215],\n",
    "                  [0.403,0.237],[0.481,0.149],[0.437,0.211],[0.666,0.091],[0.243,0.267],\n",
    "                  [0.245,0.057],[0.343,0.099],[0.639,0.161],[0.657,0.198],[0.360,0.370],\n",
    "                  [0.593,0.042],[0.719,0.103],[0.359,0.188],[0.339,0.241],[0.282,0.257],\n",
    "                  [0.748,0.232],[0.714,0.346],[0.483,0.312],[0.478,0.437],[0.525,0.369],\n",
    "                  [0.751,0.489],[0.532,0.472],[0.473,0.376],[0.725,0.445],[0.446,0.459]])"
   ]
  },
  {
   "cell_type": "code",
   "execution_count": 4,
   "metadata": {},
   "outputs": [
    {
     "name": "stdout",
     "output_type": "stream",
     "text": [
      "30\n"
     ]
    },
    {
     "data": {
      "text/plain": [
       "[16, 21, 18, 16, 12]"
      ]
     },
     "execution_count": 4,
     "metadata": {},
     "output_type": "execute_result"
    }
   ],
   "source": [
    "n_samples = X.shape[0]\n",
    "print(n_samples)\n",
    "k = 5\n",
    "init_index = [int(np.random.random() * n_samples) for _ in range(k)]\n",
    "init_index"
   ]
  },
  {
   "cell_type": "code",
   "execution_count": 5,
   "metadata": {},
   "outputs": [
    {
     "data": {
      "text/plain": [
       "[array([0.719, 0.103]),\n",
       " array([0.714, 0.346]),\n",
       " array([0.339, 0.241]),\n",
       " array([0.719, 0.103]),\n",
       " array([0.639, 0.161])]"
      ]
     },
     "execution_count": 5,
     "metadata": {},
     "output_type": "execute_result"
    }
   ],
   "source": [
    "u= [X[index] for index in init_index]\n",
    "u"
   ]
  },
  {
   "cell_type": "code",
   "execution_count": 6,
   "metadata": {},
   "outputs": [
    {
     "data": {
      "text/plain": [
       "0.007280109889280525"
      ]
     },
     "execution_count": 6,
     "metadata": {},
     "output_type": "execute_result"
    }
   ],
   "source": [
    "test1 = np.array([0.634, 0.264])\n",
    "test2 = np.array([0.627, 0.262])\n",
    "result = np.sqrt(np.sum(np.square(test1 - test2)))\n",
    "result"
   ]
  },
  {
   "cell_type": "code",
   "execution_count": 7,
   "metadata": {},
   "outputs": [
    {
     "name": "stdout",
     "output_type": "stream",
     "text": [
      "X[C[1]]:  [[0.634 0.264]\n",
      " [0.657 0.198]\n",
      " [0.748 0.232]]\n",
      "u[1]:  [0.714 0.346]\n",
      "[0.68825 0.26   ]\n"
     ]
    }
   ],
   "source": [
    "C = {0: [5, 7, 9, 10, 11, 17, 18, 19],\n",
    "      1: [2, 13, 20],\n",
    "      2: [3, 14, 22, 23, 24, 26, 27, 29],\n",
    "      3: [0, 1, 21, 25, 28],\n",
    "      4: [4, 6, 8, 12, 15, 16]}\n",
    "\n",
    "print(\"X[C[1]]: \",X[C[1]])\n",
    "print(\"u[1]: \",u[1])\n",
    "print((np.sum(X[C[1]], axis=0)+u[1] ) / (len(C[1]) + 1))"
   ]
  },
  {
   "cell_type": "code",
   "execution_count": 8,
   "metadata": {},
   "outputs": [],
   "source": [
    "class Kmeans:\n",
    "    def __init__(self, k, maxIter):\n",
    "        self.count=0\n",
    "        self.k = k \n",
    "        self.maxIter = maxIter #最大更新次数\n",
    "        \n",
    "    def fit(self, X):\n",
    "        \n",
    "        #图9.24\n",
    "        n_samples = X.shape[0] # 获取输入样本的维度\n",
    "        print(\"n_sample:\", n_samples)\n",
    "        init_index = [int(np.random.random() * n_samples) for _ in range(self.k)] #创建一个基于上面给的维度范围中的一个 维度为k的数组的index（选择的数值是随机的）\n",
    "                                                                                # n_samples = 30 --> 该例子中，X的shape[0] = 30\n",
    "                                                                                # k = 5\n",
    "                                                                                # init_index = [int(np.random.random() * n_samples) for _ in range(k)]\n",
    "                                                                                # init_index\n",
    "                                                                                # >>> [2, 2, 0, 24, 23]\n",
    "        \n",
    "        \n",
    "        u = [X[index] for index in init_index] #! line1 - 初始化均值向量 - 从原样本 中随机选择k个样本 作为 初始均值向量 { miu1, miu2, ... , miuk }\n",
    "                                                                                # u= [X[index] for index in init_index]\n",
    "                                                                                # u\n",
    "                                                                                # >>> [array([0.634, 0.264]),\n",
    "                                                                                # >>>  array([0.634, 0.264]),\n",
    "                                                                                # >>>  array([0.697, 0.46 ]),\n",
    "                                                                                # >>>  array([0.525, 0.369]),\n",
    "                                                                                # >>>  array([0.478, 0.437])]\n",
    "        print(\"len of u: \",len(u))\n",
    "        print(\"k value: \",self.k)\n",
    "        for _ in range(self.maxIter):   \n",
    "            C = {}\n",
    "            for c in range(self.k): #!line 3 - 令Ci = 给定的区间 [1, k] \n",
    "                C[c] = []\n",
    "            \n",
    "            for j in range(n_samples):   #!line 4-7 \n",
    "                                            #遍历所有样本值， \n",
    "                                            # 针对每个样本值， 和 随机选出的u 中的值（centroids） 来计算距离， \n",
    "                                            # 并且确定标记点（的index）\n",
    "                                            \n",
    "                dji_min = float('inf')    #* 初始化最大距离\n",
    "                lambdaj = None  #* 初始化最大距离对应的index\n",
    "                for u_ in range(self.k): #根据随机选出的样本的数量，进行循环更新， 其实这里放 k 也没问题\n",
    "                    dji = np.sqrt(np.sum(np.square(X[j] - u[u_])))   #! line 5 - 计算样本 x[j] 与各个均值向量（随机样本） u[u_] 的距离\n",
    "                    if dji < dji_min:\n",
    "                        dji_min = dji #* 根据 距离最近的均值向量 来确定x[j] 的 cluster标记 -> lambdaj\n",
    "                        lambdaj = u_ # 一个一个点进行比较， 确定标记点\n",
    "                                                    #? 举例子：\n",
    "                                                    # 当 j = 10， k = 5， dji_max = 0.0， lambdaj = 0\n",
    "                                                    # X[j] = X[10] = [0.634, 0.264] \n",
    "                                                    # u[u_] = u[0] = [0.624, 0.243]\n",
    "                                                    \n",
    "                                                    # 第一轮：（u_ = 0）\n",
    "                                                        # dji = 0.023259\n",
    "                                                        # if dji < dji_min      -->   0.023259 < 无穷大\n",
    "                                                        # 则 dji_min = dji      -->   dji_min = 0.023259\n",
    "                                                        # lambdaj = u_          -->   lambdaj = 0\n",
    "                                                    \n",
    "                                                    # 更新： j = 10， k = 5， dji_min = 0.023259， lambdaj = 0\n",
    "                                                    # 第二轮：(u_ = 1)\n",
    "                                                        # X[j] = X[10] = [0.634, 0.264] \n",
    "                                                        # u[u_] = u[1] = [0.604, 0.283]\n",
    "                                                        #  dji = 0.03551\n",
    "                                                        # if dji < dji_min      -->   0.03551 < 0.023259    --> 不成立\n",
    "                                                        # 保持第一轮结果\n",
    "                                                        # lambdaj = 0          -->   lambdaj = 0   \n",
    "                                                    \n",
    "                                                    # 更新 ： j = 10， k = 5， dji_min = 0.03551， lambdaj = 1\n",
    "                                                    # 第三轮：(u_ = 2)\n",
    "                                                        # X[j] = X[10] = [0.634, 0.264]\n",
    "                                                        # u[u_] = u[2] = [0.627, 0.262 ]\n",
    "                                                        # dji = 0.00728\n",
    "                                                        # if dji < dji_min      -->   0.00728 < 0.03551     --> 成立\n",
    "                                                        # 保持第二轮的结果\n",
    "                                                    #* 假设 最终的结果都是相同的， 即 dji_min = 0.03551， lambdaj = 1\n",
    "                                                    #* 于是，我们将dji_min的最小值 所对应的 lambdaj的值 存储到 C的位置中\n",
    "                                                    #* 在将上一层的for loop遍历的 j（array） 放进C[lambdaj]中 \n",
    "                    self.count += 1 \n",
    "                    # 由于是 每一个点对应 随机样本的 x[j] 来匹配距离，所以两个for loop的循环次数是： 样本数量 * 随机样本数量 (30 * 5)\n",
    "                    # 又因为有 迭代数量maxIter, 所以循环次数是： maxIter * 样本数量 * 随机样本数量 (100 * 30 * 5) = 15000\n",
    "                C[lambdaj].append(j) #! line 7 - 将样本 xj 划入相应的簇 (直接append 不需要再赋值，不然是None)\n",
    "            finish = True\n",
    "            \n",
    "            for i in range(self.k): #! line 9-16\n",
    "                u_new = (np.sum(X[C[i]], axis=0)+u[i] ) / (len(C[i]) + 1) #! line 10 - 计算新均值向量 （按列求均值） \n",
    "                                                    #? 举例子\n",
    "                                                    # C = {0: [5, 7, 9, 10, 11, 17, 18, 19],\n",
    "                                                    #           1: [2, 13, 20],\n",
    "                                                    #           2: [3, 14, 22, 23, 24, 26, 27, 29],\n",
    "                                                    #           3: [0, 1, 21, 25, 28],\n",
    "                                                    #           4: [4, 6, 8, 12, 15, 16]}\n",
    "\n",
    "                                                    # print(\"X[C[1]]: \",X[C[1]])\n",
    "                                                    # print(\"u[1]: \",u[1])\n",
    "                                                    # print(\"miu_new: \", (np.sum(X[C[1]], axis=0)+u[1] ) / (len(C[1]) + 1))\n",
    "                                                    \n",
    "                                                    # >>> X[C[1]]:  [[0.634 0.264]\n",
    "                                                    # >>>           [0.657 0.198]\n",
    "                                                    # >>>           [0.748 0.232]]\n",
    "                                                    \n",
    "                                                    # >>> u[1]:     [0.697 0.46]\n",
    "                                                    #* >>> miu_new: [0.684  0.2885]\n",
    "                \n",
    "                x_pos = u_new[0] - u[0] #! line 11（前期赋值） - 计算新均值向量与旧均值向量的差值\n",
    "                y_pos = u_new[1] - u[1]\n",
    "                \n",
    "                if (np.linalg.norm([x_pos, y_pos])) > 0 : #! line 11 - if (miu_new - miu) != 0   (由于计算精度等问题，采用这样比较两向量是否一致)\n",
    "                    # 这里将两个值相减，是将x、y的点代入欧式距离，得到向量长度，如果大于0，则说明有变化，则继续迭代\n",
    "                    finish = False\n",
    "                    u[i] = u_new #! 将当前均值向量 miu 更新称为 miu_new\n",
    "                \n",
    "            if finish:\n",
    "                break\n",
    "\n",
    "        return C, u"
   ]
  },
  {
   "cell_type": "code",
   "execution_count": 9,
   "metadata": {},
   "outputs": [
    {
     "name": "stdout",
     "output_type": "stream",
     "text": [
      "0.3690054200143949\n",
      "0.5056055775008815\n",
      "0.22020445045457185\n"
     ]
    }
   ],
   "source": [
    "miu = [[0.403, 0.237],\n",
    "      [0.343, 0.099],\n",
    "      [0.478, 0.437]]\n",
    "\n",
    "x1 = [0.697, 0.460]\n",
    "for i in range(3):\n",
    "      x = miu[i][0] - x1[0]\n",
    "      y = miu[i][1] - x1[1]\n",
    "      vector = np.linalg.norm([x, y])\n",
    "      print(vector)"
   ]
  },
  {
   "cell_type": "code",
   "execution_count": 10,
   "metadata": {},
   "outputs": [
    {
     "name": "stdout",
     "output_type": "stream",
     "text": [
      "n_sample: 30\n",
      "len of u:  3\n",
      "k value:  3\n"
     ]
    },
    {
     "data": {
      "image/png": "[encoded data removed]",
      "text/plain": [
       "<Figure size 432x288 with 1 Axes>"
      ]
     },
     "metadata": {
      "needs_background": "light"
     },
     "output_type": "display_data"
    }
   ],
   "source": [
    "kmeans = Kmeans(k=3, maxIter = 4)\n",
    "C, u= kmeans.fit(X) # u 就是更新完成后的 中心点\n",
    "\n",
    "colors = ['r', 'b', 'y']\n",
    "\n",
    "for i in range(len(C)):\n",
    "      for j in C[i]:\n",
    "            plt.scatter(X[j][1], X[j][0], c=colors[i])\n",
    "            plt.scatter(u[i][1], u[i][0], marker='.')"
   ]
  },
  {
   "cell_type": "code",
   "execution_count": null,
   "metadata": {},
   "outputs": [],
   "source": []
  }
 ],
 "metadata": {
  "interpreter": {
   "hash": "ee089c0d8a7b72a1db4475b00a1092da957cc6786a2373700bea0bde293de64c"
  },
  "kernelspec": {
   "display_name": "Python 3.9.1 64-bit ('3.9.1')",
   "language": "python",
   "name": "python3"
  },
  "language_info": {
   "codemirror_mode": {
    "name": "ipython",
    "version": 3
   },
   "file_extension": ".py",
   "mimetype": "text/x-python",
   "name": "python",
   "nbconvert_exporter": "python",
   "pygments_lexer": "ipython3",
   "version": "3.9.1"
  },
  "orig_nbformat": 4
 },
 "nbformat": 4,
 "nbformat_minor": 2
}
